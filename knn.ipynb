{
 "cells": [
  {
   "cell_type": "markdown",
   "id": "4e4c2128",
   "metadata": {},
   "source": [
    "Load PARSeq small v1.0 model from Pytorch Hub:"
   ]
  },
  {
   "cell_type": "code",
   "execution_count": null,
   "id": "8c7fd1be",
   "metadata": {},
   "outputs": [],
   "source": [
    "import torch\n",
    "\n",
    "torch.hub.list('baudm/parseq')\n",
    "model = torch.hub.load('baudm/parseq', 'parseq', pretrained=True)"
   ]
  },
  {
   "cell_type": "markdown",
   "id": "3356701b",
   "metadata": {},
   "source": [
    "Check WAR (word accuracy rate) and CER (character error rate) on 1000 samples from the WordArt dataset:"
   ]
  },
  {
   "cell_type": "code",
   "execution_count": null,
   "id": "006f9471",
   "metadata": {},
   "outputs": [
    {
     "name": "stdout",
     "output_type": "stream",
     "text": [
      "\n",
      "Word accuracy rate: 79.9000 %\n",
      "Character error rate: 0.1008\n"
     ]
    }
   ],
   "source": [
    "from torchvision import transforms\n",
    "from PIL import Image\n",
    "import editdistance\n",
    "\n",
    "img_transform = transforms.Compose([\n",
    "    transforms.Resize((32, 128)),  # parseq small/tiny\n",
    "    transforms.ToTensor(),\n",
    "    transforms.Normalize(mean=[0.5], std=[0.5]),\n",
    "])\n",
    "\n",
    "dataset_path = \"dataset_wordart_test/\"\n",
    "label_file = dataset_path + \"labels.txt\"\n",
    "\n",
    "total_images = 0\n",
    "war_correct_predictions = 0\n",
    "cer_error = 0\n",
    "cer_char_count = 0\n",
    "\n",
    "limit = 1000\n",
    "\n",
    "# open label file\n",
    "with open(label_file, \"r\", encoding=\"utf-8\") as f:\n",
    "    for line in f:\n",
    "        # stop after N inferences\n",
    "        if limit <= 0:\n",
    "            break\n",
    "\n",
    "        parts = line.strip().split()\n",
    "        # skip invalid lines\n",
    "        if len(parts) < 2:\n",
    "            continue\n",
    "\n",
    "        img_path = dataset_path + parts[0]\n",
    "        ground_truth = \" \".join(parts[1:])\n",
    "\n",
    "        try:\n",
    "            # get image\n",
    "            img = Image.open(img_path).convert(\"RGB\")\n",
    "            img = img_transform(img).unsqueeze(0)\n",
    "\n",
    "            # inference\n",
    "            logits = model(img)\n",
    "            pred = logits.softmax(-1)\n",
    "            predicted_label, _ = model.tokenizer.decode(pred)\n",
    "\n",
    "            # compare prediction with gt\n",
    "            if predicted_label[0].strip().lower() == ground_truth.strip().lower():\n",
    "                war_correct_predictions += 1\n",
    "            cer_error += editdistance.eval(predicted_label[0].strip().lower(), ground_truth.strip().lower())\n",
    "            cer_char_count += len(ground_truth.strip())\n",
    "            total_images += 1\n",
    "\n",
    "        except Exception as e:\n",
    "            print(f\"Error processing {img_path}: {e}\")\n",
    "\n",
    "        limit -= 1\n",
    "\n",
    "\n",
    "war = (war_correct_predictions / total_images * 100) if total_images != 0 else 0\n",
    "cer = (cer_error / cer_char_count) if cer_char_count != 0 else 0\n",
    "print(f\"\\nWord accuracy rate: {war:.4f} %\")\n",
    "print(f\"Character error rate: {cer:.4f}\")"
   ]
  }
 ],
 "metadata": {
  "kernelspec": {
   "display_name": ".venv",
   "language": "python",
   "name": "python3"
  },
  "language_info": {
   "codemirror_mode": {
    "name": "ipython",
    "version": 3
   },
   "file_extension": ".py",
   "mimetype": "text/x-python",
   "name": "python",
   "nbconvert_exporter": "python",
   "pygments_lexer": "ipython3",
   "version": "3.10.6"
  }
 },
 "nbformat": 4,
 "nbformat_minor": 5
}
